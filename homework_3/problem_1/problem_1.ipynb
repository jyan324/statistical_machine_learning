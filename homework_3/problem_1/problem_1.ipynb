{
 "cells": [
  {
   "cell_type": "markdown",
   "metadata": {},
   "source": [
    "# Problem Set 3\n",
    "## Problem 1"
   ]
  },
  {
   "cell_type": "markdown",
   "metadata": {},
   "source": [
    "### Loading the dataset"
   ]
  },
  {
   "cell_type": "code",
   "execution_count": 18,
   "metadata": {},
   "outputs": [],
   "source": [
    "from sklearn.datasets import load_boston\n",
    "import numpy as np\n",
    "boston = load_boston()\n",
    "x = boston.data\n",
    "y = boston.target"
   ]
  },
  {
   "cell_type": "markdown",
   "metadata": {},
   "source": [
    "### Splitting the dataset into testing, validation and training"
   ]
  },
  {
   "cell_type": "code",
   "execution_count": 19,
   "metadata": {},
   "outputs": [
    {
     "name": "stderr",
     "output_type": "stream",
     "text": [
      "/usr/local/lib/python3.6/dist-packages/sklearn/model_selection/_split.py:2069: FutureWarning: From version 0.21, test_size will always complement train_size unless both are specified.\n",
      "  FutureWarning)\n"
     ]
    }
   ],
   "source": [
    "from sklearn.model_selection import train_test_split\n",
    "x_train, x_test, y_train, y_test = train_test_split(x, \n",
    "                                                    y, \n",
    "                                                    train_size=400,\n",
    "                                                    random_state=13)"
   ]
  },
  {
   "cell_type": "markdown",
   "metadata": {},
   "source": [
    "### Standardizing the dataset"
   ]
  },
  {
   "cell_type": "code",
   "execution_count": 20,
   "metadata": {},
   "outputs": [],
   "source": [
    "from sklearn import preprocessing\n",
    "scaler = preprocessing.StandardScaler().fit(x_train)\n",
    "x_train_std = scaler.transform(x_train)"
   ]
  },
  {
   "cell_type": "markdown",
   "metadata": {},
   "source": [
    "### Adding Column"
   ]
  },
  {
   "cell_type": "code",
   "execution_count": 21,
   "metadata": {},
   "outputs": [],
   "source": [
    "X = np.concatenate([np.ones((x_train_std.shape[0], 1)), x_train_std], axis=1).astype(np.float)\n",
    "X_test = np.concatenate([np.ones((x_test.shape[0], 1)), scaler.transform(x_test)], axis=1).astype(np.float)"
   ]
  },
  {
   "cell_type": "markdown",
   "metadata": {},
   "source": [
    "### Least Square Model\n",
    "$$\n",
    "\\theta_{optimal} = (X^{T}X)^{-1}X^{T}y\n",
    "$$"
   ]
  },
  {
   "cell_type": "markdown",
   "metadata": {},
   "source": [
    "#### Finding $\\theta_{optimal}$"
   ]
  },
  {
   "cell_type": "code",
   "execution_count": 22,
   "metadata": {},
   "outputs": [],
   "source": [
    "theta_opt = np.matmul(np.matmul(np.linalg.inv(np.matmul(np.transpose(X), X)), np.transpose(X)), \n",
    "                      y_train.astype(np.float))"
   ]
  },
  {
   "cell_type": "markdown",
   "metadata": {},
   "source": [
    "#### Evaluating Least Square Model\n",
    "The prediction of Least Square Model is given by $\\hat{y} = X \\theta_{optimal}$. \n",
    "The mean square error is given by:$\\frac{1}{N}||y-\\hat{y}||_{2}^{2}$"
   ]
  },
  {
   "cell_type": "code",
   "execution_count": 23,
   "metadata": {},
   "outputs": [
    {
     "name": "stdout",
     "output_type": "stream",
     "text": [
      "MSE for Least Square Model = 24.4836\n"
     ]
    }
   ],
   "source": [
    "from sklearn.metrics import mean_squared_error\n",
    "pred = np.matmul(X_test, theta_opt)\n",
    "error = mean_squared_error(y_test, pred)\n",
    "print (\"MSE for Least Square Model = %.4f\"%(error))"
   ]
  },
  {
   "cell_type": "markdown",
   "metadata": {},
   "source": [
    "### Ridge Regression\n",
    "\n",
    "$$\n",
    "\\theta_{optimal} = (X^{T}X+\\Gamma^{T}\\Gamma)^{-1}X^{T}y\n",
    "$$\n",
    "where\n",
    "$$\n",
    "    \\Gamma = \n",
    "    \\begin{bmatrix}\n",
    "        0&\\mathbf{0^{T}}\\\\\n",
    "        \\textbf{0}&\\sqrt{\\lambda}\\textbf{I}\\\\\n",
    "    \\end{bmatrix}\n",
    "$$\n",
    "and $\\Gamma \\in \\mathbb{R}^{(d+1) \\times (d+1)}$"
   ]
  },
  {
   "cell_type": "markdown",
   "metadata": {},
   "source": [
    "#### Creating the $\\Gamma$ Matrix"
   ]
  },
  {
   "cell_type": "code",
   "execution_count": 24,
   "metadata": {},
   "outputs": [],
   "source": [
    "def Gamma(d, Lambda):\n",
    "    \"\"\"\n",
    "        Function to generate Gamma\n",
    "    \"\"\"\n",
    "    I = np.identity(d)\n",
    "    O_00 = 0\n",
    "    O_01 = np.zeros((1,d))\n",
    "    O_10 = np.zeros((d,1))\n",
    "    gamma = np.block([[O_00, O_01], \n",
    "                       [O_10, Lambda*I]]);\n",
    "    return gamma"
   ]
  },
  {
   "cell_type": "markdown",
   "metadata": {},
   "source": [
    "#### Finding $\\theta_{optimal}$\n",
    "Let $X_{inv} = (X^{T}X + \\Gamma^{T}\\Gamma)^{-1}$"
   ]
  },
  {
   "cell_type": "code",
   "execution_count": 25,
   "metadata": {},
   "outputs": [],
   "source": [
    "def ridgeRegression(X,Y, Lambda):\n",
    "    \"\"\"\n",
    "        Function to find optimal weights for ridge regression\n",
    "    \"\"\"\n",
    "    d = X.shape[1]-1\n",
    "    gamma = Gamma(d, np.sqrt(Lambda))\n",
    "    X_inv = np.linalg.inv(np.matmul(np.transpose(X), X) + np.matmul(np.transpose(gamma), gamma))\n",
    "    theta_opt = np.matmul(np.matmul(X_inv, np.transpose(X)), Y)\n",
    "    return theta_opt"
   ]
  },
  {
   "cell_type": "markdown",
   "metadata": {},
   "source": [
    "#### Evaluating Ridge Regression\n",
    "The prediction of Ridge Regression is given by $\\hat{y} = X \\theta_{optimal}$. \n",
    "The mean square error is given by:$\\frac{1}{N}||y-\\hat{y}||_{2}^{2}$"
   ]
  },
  {
   "cell_type": "code",
   "execution_count": 26,
   "metadata": {},
   "outputs": [],
   "source": [
    "def evaluateRegression(X,Y,theta):\n",
    "    \"\"\"\n",
    "        Function to evaluate performance of ridge Regression using MSE\n",
    "    \"\"\"\n",
    "    pred = np.matmul(X, theta)\n",
    "    error = mean_squared_error(Y, pred)\n",
    "    return error"
   ]
  },
  {
   "cell_type": "markdown",
   "metadata": {},
   "source": [
    "#### Splitting between Training and Validation"
   ]
  },
  {
   "cell_type": "code",
   "execution_count": 27,
   "metadata": {},
   "outputs": [],
   "source": [
    "X_train, X_val, Y_train, Y_val = train_test_split(X, \n",
    "                                                    y_train, \n",
    "                                                    test_size=0.25,\n",
    "                                                    random_state=13)"
   ]
  },
  {
   "cell_type": "markdown",
   "metadata": {},
   "source": [
    "#### Finding Optimal $\\lambda$ (Training)\n",
    "\n",
    "To find the optimal value of Lambda for Ridge Regression, we split the training set to get a holdout or validation set. About 25% of the training set is allocated towards validation set. \n",
    "\n",
    "To find the optimal $\\lambda$, we begin with a relatively small value of $\\lambda = 0$ and iteratively increase it. The performance is evaluated by mean square error (MSE). The value of $\\lambda$ corresponding to lowest MSE is the optimal $\\lambda$."
   ]
  },
  {
   "cell_type": "code",
   "execution_count": 28,
   "metadata": {},
   "outputs": [
    {
     "data": {
      "image/png": "[encoded data removed]",
      "text/plain": [
       "<Figure size 432x288 with 1 Axes>"
      ]
     },
     "metadata": {
      "needs_background": "light"
     },
     "output_type": "display_data"
    },
    {
     "name": "stdout",
     "output_type": "stream",
     "text": [
      "The optimal value of lambda is 10.7000\n",
      "The value of MSE corresponding to minimum Lambda is 30.5397\n"
     ]
    }
   ],
   "source": [
    "# Iterating through lambda to find optimal value\n",
    "errors = []\n",
    "Lambdas = np.arange(0.1,100,0.1).tolist()\n",
    "for Lambda in Lambdas:\n",
    "    theta = ridgeRegression(X_train, Y_train, Lambda)\n",
    "    error = evaluateRegression(X_val, Y_val, theta)\n",
    "    errors.append(error)\n",
    "# Setting Up Matplotlib\n",
    "import matplotlib.pyplot as plt\n",
    "from matplotlib import rc\n",
    "#Setting Matplotlib to display correctly\n",
    "rc('text', usetex=True)\n",
    "rc('xtick', labelsize=20) \n",
    "rc('ytick', labelsize=20) \n",
    "font = {'family' : 'serif',\n",
    "        'size'   : 22}\n",
    "rc('font', **font)\n",
    "# Plotting the error\n",
    "plt.figure()\n",
    "plt.plot(Lambdas, errors, 'k')\n",
    "plt.xlabel(r'$\\lambda$')\n",
    "plt.ylabel(r'Mean Square Error')\n",
    "plt.title(r\"Plot of MSE vs $\\lambda$\")\n",
    "plt.show()\n",
    "# Finding the Optimal Lambda\n",
    "Lambda_opt = Lambdas[errors.index(min(errors))]\n",
    "print (\"The optimal value of lambda is %.4f\"%Lambda_opt)\n",
    "print (\"The value of MSE corresponding to minimum Lambda is %.4f\"%min(errors))\n",
    "# Finding Optimal Model\n",
    "theta_opt = ridgeRegression(X_train, Y_train, Lambda_opt)"
   ]
  },
  {
   "cell_type": "markdown",
   "metadata": {},
   "source": [
    "#### Evaluating Ridge Regression on Test Set"
   ]
  },
  {
   "cell_type": "code",
   "execution_count": 29,
   "metadata": {},
   "outputs": [
    {
     "name": "stdout",
     "output_type": "stream",
     "text": [
      "MSE for Ridge Regression Model = 23.9856\n"
     ]
    }
   ],
   "source": [
    "error = evaluateRegression(X_test, y_test, theta_opt)\n",
    "print (\"MSE for Ridge Regression Model = %.4f\"%(error))"
   ]
  },
  {
   "cell_type": "markdown",
   "metadata": {},
   "source": [
    "### LASSO"
   ]
  },
  {
   "cell_type": "markdown",
   "metadata": {},
   "source": [
    "#### Splitting Between Training and Testing"
   ]
  },
  {
   "cell_type": "code",
   "execution_count": 30,
   "metadata": {},
   "outputs": [],
   "source": [
    "X_train, X_val, Y_train, Y_val = train_test_split(x_train_std, \n",
    "                                                    y_train, \n",
    "                                                    test_size=0.25,\n",
    "                                                    random_state=13)"
   ]
  },
  {
   "cell_type": "markdown",
   "metadata": {},
   "source": [
    "#### Finding Optimal $\\alpha$ (Training)\n",
    "\n",
    "To find the optimal value of $\\alpha$ for Ridge Regression, we split the training set to get a holdout or validation set. About 25% of the training set is allocated towards validation set. \n",
    "\n",
    "To find the optimal $\\alpha$, we begin with a relatively large value of $\\alpha = 1000$ and iteratively reduce it. The performance is evaluated by mean square error (MSE). The value of $\\alpha$ corresponding to lowest MSE is the optimal $\\alpha$."
   ]
  },
  {
   "cell_type": "code",
   "execution_count": 31,
   "metadata": {},
   "outputs": [
    {
     "name": "stdout",
     "output_type": "stream",
     "text": [
      "The optimal value of alpha is 0.1000\n",
      "The value of MSE corresponding to minimum alpha is 31.2347\n"
     ]
    },
    {
     "data": {
      "text/plain": [
       "Lasso(alpha=0.1, copy_X=True, fit_intercept=True, max_iter=1000,\n",
       "   normalize=False, positive=False, precompute=False, random_state=None,\n",
       "   selection='cyclic', tol=0.0001, warm_start=False)"
      ]
     },
     "execution_count": 31,
     "metadata": {},
     "output_type": "execute_result"
    },
    {
     "data": {
      "image/png": "[encoded data removed]",
      "text/plain": [
       "<Figure size 432x288 with 1 Axes>"
      ]
     },
     "metadata": {
      "needs_background": "light"
     },
     "output_type": "display_data"
    }
   ],
   "source": [
    "# Importing the model\n",
    "from sklearn import linear_model\n",
    "# Iterating through lambda to find optimal value\n",
    "errors = []\n",
    "alphas = np.arange(0.1,10,0.1).tolist()\n",
    "for alpha in alphas:\n",
    "    reg = linear_model.Lasso(alpha)\n",
    "    reg.fit(X_train,Y_train)\n",
    "    pred = reg.predict(X_val)\n",
    "    error = mean_squared_error(Y_val, pred)\n",
    "    errors.append(error)\n",
    "# Plotting the error\n",
    "plt.figure()\n",
    "plt.plot(alphas, errors, 'k')\n",
    "plt.xlabel(r'$\\alpha$')\n",
    "plt.ylabel(r'Mean Square Error')\n",
    "plt.title(r\"Plot of MSE vs $\\alpha$\")\n",
    "# Finding the Optimal alpha\n",
    "alpha_opt = alphas[errors.index(min(errors))]\n",
    "print (\"The optimal value of alpha is %.4f\"%alpha_opt)\n",
    "print (\"The value of MSE corresponding to minimum alpha is %.4f\"%min(errors))\n",
    "# Finding Optimal Model\n",
    "reg_opt = linear_model.Lasso(alpha_opt)\n",
    "reg_opt.fit(X_train,Y_train)"
   ]
  },
  {
   "cell_type": "markdown",
   "metadata": {},
   "source": [
    "#### Evaluating LASSO on Test Set"
   ]
  },
  {
   "cell_type": "code",
   "execution_count": 32,
   "metadata": {},
   "outputs": [
    {
     "name": "stdout",
     "output_type": "stream",
     "text": [
      "MSE for LASSO = 23.3346\n"
     ]
    }
   ],
   "source": [
    "pred = reg_opt.predict(scaler.transform(x_test))\n",
    "error = mean_squared_error(y_test, pred)\n",
    "print (\"MSE for LASSO = %.4f\"%(error))"
   ]
  },
  {
   "cell_type": "markdown",
   "metadata": {},
   "source": [
    "#### Checking for non-zero components"
   ]
  },
  {
   "cell_type": "code",
   "execution_count": 43,
   "metadata": {},
   "outputs": [
    {
     "name": "stdout",
     "output_type": "stream",
     "text": [
      "Coefficients: \n",
      " [-0.86954276  0.94971562 -0.          0.30604905 -0.76188819  2.89187927\n",
      "  0.         -2.50535868  1.5191422  -1.66381487 -1.73269078  0.85810411\n",
      " -3.94887155]\n",
      "Non-zero Coefficients: \n",
      " [-0.86954276  0.94971562  0.30604905 -0.76188819  2.89187927 -2.50535868\n",
      "  1.5191422  -1.66381487 -1.73269078  0.85810411 -3.94887155]\n",
      "Number of non-zero Coefficients:  11\n"
     ]
    }
   ],
   "source": [
    "print (\"Coefficients: \\n\", reg_opt.coef_)\n",
    "print (\"Non-zero Coefficients: \\n\", reg_opt.coef_[np.nonzero(reg_opt.coef_)])\n",
    "print (\"Number of non-zero Coefficients: \", np.shape(np.nonzero(reg_opt.coef_))[1])"
   ]
  }
 ],
 "metadata": {
  "kernelspec": {
   "display_name": "Python 3",
   "language": "python",
   "name": "python3"
  },
  "language_info": {
   "codemirror_mode": {
    "name": "ipython",
    "version": 3
   },
   "file_extension": ".py",
   "mimetype": "text/x-python",
   "name": "python",
   "nbconvert_exporter": "python",
   "pygments_lexer": "ipython3",
   "version": "3.6.7"
  }
 },
 "nbformat": 4,
 "nbformat_minor": 2
}

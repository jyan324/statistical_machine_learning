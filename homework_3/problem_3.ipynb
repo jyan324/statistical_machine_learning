{
 "cells": [
  {
   "cell_type": "markdown",
   "metadata": {},
   "source": [
    "# Problem 3\n",
    "\n",
    "## Loading the dataset"
   ]
  },
  {
   "cell_type": "code",
   "execution_count": 9,
   "metadata": {},
   "outputs": [],
   "source": [
    "import numpy as np\n",
    "np.random.seed(2017)\n",
    "n = 100\n",
    "xtrain = np.random.rand(n)\n",
    "ytrain = 0.25 + 0.5*xtrain + np.sqrt(0.1)*np.random.randn(n)\n",
    "idx = np.random.randint(0,100,10)\n",
    "ytrain[idx]=ytrain[idx]+np.random.randn(10)"
   ]
  },
  {
   "cell_type": "markdown",
   "metadata": {},
   "source": [
    "## Ridge Regression\n",
    "$$\n",
    "\\theta_{optimal} = (X^{T}X+\\Gamma^{T}\\Gamma)^{-1}X^{T}y\n",
    "$$\n",
    "where\n",
    "$$\n",
    "    \\Gamma = \n",
    "    \\begin{bmatrix}\n",
    "        0&\\mathbf{0^{T}}\\\\\n",
    "        \\textbf{0}&\\sqrt{\\lambda}\\textbf{I}\\\\\n",
    "    \\end{bmatrix}\n",
    "$$\n",
    "and $\\Gamma \\in \\mathbb{R}^{(d+1) \\times (d+1)}$"
   ]
  },
  {
   "cell_type": "markdown",
   "metadata": {},
   "source": [
    "### Creating the $\\Gamma$ Matrix"
   ]
  },
  {
   "cell_type": "code",
   "execution_count": 10,
   "metadata": {},
   "outputs": [],
   "source": [
    "def Gamma(d, Lambda):\n",
    "    \"\"\"\n",
    "        Function to generate Gamma\n",
    "    \"\"\"\n",
    "    I = np.identity(d)\n",
    "    O_00 = 0\n",
    "    O_01 = np.zeros((1,d))\n",
    "    O_10 = np.zeros((d,1))\n",
    "    gamma = np.block([[O_00, O_01], \n",
    "                       [O_10, Lambda*I]]);\n",
    "    return gamma"
   ]
  },
  {
   "cell_type": "markdown",
   "metadata": {},
   "source": [
    "### Finding $\\theta_{optimal}$\n",
    "Let $X_{inv} = (X^{T}X + \\Gamma^{T}\\Gamma)^{-1}$"
   ]
  },
  {
   "cell_type": "code",
   "execution_count": 11,
   "metadata": {},
   "outputs": [],
   "source": [
    "def ridgeRegression(X,Y, Lambda):\n",
    "    \"\"\"\n",
    "        Function to find optimal weights for ridge regression\n",
    "    \"\"\"\n",
    "    d = X.shape[1]-1\n",
    "    gamma = Gamma(d, np.sqrt(Lambda))\n",
    "    X_inv = np.linalg.inv(np.matmul(np.transpose(X), X) + np.matmul(np.transpose(gamma), gamma))\n",
    "    theta_opt = np.matmul(np.matmul(X_inv, np.transpose(X)), Y)\n",
    "    return theta_opt"
   ]
  },
  {
   "cell_type": "markdown",
   "metadata": {},
   "source": [
    "### Evaluating Ridge Regression\n",
    "The prediction of Ridge Regression is given by $\\hat{y} = X \\theta_{optimal}$. \n",
    "The mean square error is given by:$\\frac{1}{N}||y-\\hat{y}||_{2}^{2}$"
   ]
  },
  {
   "cell_type": "code",
   "execution_count": 12,
   "metadata": {},
   "outputs": [],
   "source": [
    "from sklearn.metrics import mean_squared_error\n",
    "def evaluateRidgeRegression(X,Y,theta):\n",
    "    \"\"\"\n",
    "        Function to evaluate performance of ridge Regression using MSE\n",
    "    \"\"\"\n",
    "    pred = np.matmul(X, theta)\n",
    "    error = mean_squared_error(Y, pred)\n",
    "    return error"
   ]
  },
  {
   "cell_type": "markdown",
   "metadata": {},
   "source": [
    "#### Finding Optimal $\\lambda$ (Training)\n",
    "The optimal value of $\\lambda$ is loosely found by evaluating the MSE performance."
   ]
  },
  {
   "cell_type": "code",
   "execution_count": 45,
   "metadata": {},
   "outputs": [
    {
     "name": "stdout",
     "output_type": "stream",
     "text": [
      "Lambda: 1.250000\n",
      "Intercept: 0.258935, Slope: 0.304191\n"
     ]
    }
   ],
   "source": [
    "Xtrain = np.column_stack([np.ones(xtrain.shape[0]), xtrain])\n",
    "Lambda = 1.25\n",
    "reg = ridgeRegression(Xtrain, ytrain, Lambda)\n",
    "error = evaluateRidgeRegression(Xtrain, ytrain, reg)\n",
    "errors.append(error)\n",
    "print (\"Lambda: %f\\nIntercept: %f, Slope: %f\"%(Lambda, reg[1], reg[0]))"
   ]
  },
  {
   "cell_type": "markdown",
   "metadata": {},
   "source": [
    "## Huber Loss"
   ]
  },
  {
   "cell_type": "code",
   "execution_count": 43,
   "metadata": {},
   "outputs": [
    {
     "name": "stdout",
     "output_type": "stream",
     "text": [
      "[1.     1.0625 1.125  1.1875 1.25  ]\n",
      "[0.001   0.02575 0.0505  0.07525 0.1    ]\n",
      "1.0000 &  0.0010 & 0.3276 & 0.2608 \\\\\n",
      "1.0000 &  0.0258 & 0.3069 & 0.2613 \\\\\n",
      "1.0000 &  0.0505 & 0.3267 & 0.2608 \\\\\n",
      "1.0000 &  0.0753 & 0.3262 & 0.2608 \\\\\n",
      "1.0000 &  0.1000 & 0.3256 & 0.2608 \\\\\n",
      "1.0625 &  0.0010 & 0.3411 & 0.2580 \\\\\n",
      "1.0625 &  0.0258 & 0.3408 & 0.2581 \\\\\n",
      "1.0625 &  0.0505 & 0.3406 & 0.2582 \\\\\n",
      "1.0625 &  0.0753 & 0.3403 & 0.2583 \\\\\n",
      "1.0625 &  0.1000 & 0.3401 & 0.2584 \\\\\n",
      "1.1250 &  0.0010 & 0.3683 & 0.2479 \\\\\n",
      "1.1250 &  0.0258 & 0.3679 & 0.2481 \\\\\n",
      "1.1250 &  0.0505 & 0.3675 & 0.2483 \\\\\n",
      "1.1250 &  0.0753 & 0.3672 & 0.2484 \\\\\n",
      "1.1250 &  0.1000 & 0.3668 & 0.2486 \\\\\n",
      "1.1875 &  0.0010 & 0.3726 & 0.2474 \\\\\n",
      "1.1875 &  0.0258 & 0.3723 & 0.2476 \\\\\n",
      "1.1875 &  0.0505 & 0.3719 & 0.2477 \\\\\n",
      "1.1875 &  0.0753 & 0.3716 & 0.2479 \\\\\n",
      "1.1875 &  0.1000 & 0.3712 & 0.2481 \\\\\n",
      "1.2500 &  0.0010 & 0.3582 & 0.2577 \\\\\n",
      "1.2500 &  0.0258 & 0.3578 & 0.2578 \\\\\n",
      "1.2500 &  0.0505 & 0.3575 & 0.2580 \\\\\n",
      "1.2500 &  0.0753 & 0.3572 & 0.2582 \\\\\n",
      "1.2500 &  0.1000 & 0.3568 & 0.2583 \\\\\n"
     ]
    }
   ],
   "source": [
    "from sklearn import linear_model\n",
    "Epsilons = np.linspace(1,1.25,5)\n",
    "alphas = np.linspace(0.001,0.1,5)\n",
    "print (Epsilons)\n",
    "print (alphas)\n",
    "for i in range(5):\n",
    "    for j in range(5):\n",
    "        eps = Epsilons[i]\n",
    "        alps = alphas[j]\n",
    "        reg = linear_model.HuberRegressor(epsilon=eps,alpha=alps)\n",
    "        reg.fit(xtrain.reshape(-1,1),ytrain)\n",
    "        print (\"%.4f &  %.4f & %.4f & %.4f \\\\\\\\\" %(eps, alps, reg.coef_, reg.intercept_))"
   ]
  },
  {
   "cell_type": "markdown",
   "metadata": {},
   "source": [
    "# Support Vector Regression"
   ]
  },
  {
   "cell_type": "code",
   "execution_count": 44,
   "metadata": {},
   "outputs": [
    {
     "name": "stdout",
     "output_type": "stream",
     "text": [
      "1.0000 & 0.0010 & 0.3095 & 0.2603 \\\\\n",
      "1.0000 & 0.0258 & 0.3206 & 0.2704 \\\\\n",
      "1.0000 & 0.0505 & 0.3618 & 0.2562 \\\\\n",
      "1.0000 & 0.0753 & 0.3956 & 0.2361 \\\\\n",
      "1.0000 & 0.1000 & 0.3876 & 0.2354 \\\\\n",
      "1.0625 & 0.0010 & 0.3095 & 0.2603 \\\\\n",
      "1.0625 & 0.0258 & 0.3206 & 0.2704 \\\\\n",
      "1.0625 & 0.0505 & 0.3618 & 0.2562 \\\\\n",
      "1.0625 & 0.0753 & 0.3956 & 0.2361 \\\\\n",
      "1.0625 & 0.1000 & 0.3876 & 0.2354 \\\\\n",
      "1.1250 & 0.0010 & 0.3095 & 0.2603 \\\\\n",
      "1.1250 & 0.0258 & 0.3206 & 0.2704 \\\\\n",
      "1.1250 & 0.0505 & 0.3618 & 0.2562 \\\\\n",
      "1.1250 & 0.0753 & 0.3956 & 0.2361 \\\\\n",
      "1.1250 & 0.1000 & 0.3904 & 0.2332 \\\\\n",
      "1.1875 & 0.0010 & 0.3095 & 0.2603 \\\\\n",
      "1.1875 & 0.0258 & 0.3206 & 0.2704 \\\\\n",
      "1.1875 & 0.0505 & 0.3630 & 0.2555 \\\\\n",
      "1.1875 & 0.0753 & 0.3956 & 0.2361 \\\\\n",
      "1.1875 & 0.1000 & 0.3968 & 0.2280 \\\\\n",
      "1.2500 & 0.0010 & 0.3095 & 0.2603 \\\\\n",
      "1.2500 & 0.0258 & 0.3206 & 0.2704 \\\\\n",
      "1.2500 & 0.0505 & 0.3618 & 0.2562 \\\\\n",
      "1.2500 & 0.0753 & 0.3956 & 0.2361 \\\\\n",
      "1.2500 & 0.1000 & 0.4019 & 0.2264 \\\\\n"
     ]
    }
   ],
   "source": [
    "from sklearn.svm import SVR\n",
    "C = np.linspace(1,1.25,5)\n",
    "epsilons = np.linspace(0.001,0.1,5)\n",
    "for i in range(5):\n",
    "    for j in range(5):\n",
    "        c = C[i]\n",
    "        eps = epsilons[j]\n",
    "        reg = SVR(C=c, epsilon=eps, kernel='linear')\n",
    "        reg.fit(xtrain.reshape(-1,1),ytrain)\n",
    "        print (\"%.4f & %.4f & %.4f & %.4f \\\\\\\\\" %(c, eps, reg.coef_, reg.intercept_))"
   ]
  },
  {
   "cell_type": "code",
   "execution_count": null,
   "metadata": {},
   "outputs": [],
   "source": []
  }
 ],
 "metadata": {
  "kernelspec": {
   "display_name": "Python 3",
   "language": "python",
   "name": "python3"
  },
  "language_info": {
   "codemirror_mode": {
    "name": "ipython",
    "version": 3
   },
   "file_extension": ".py",
   "mimetype": "text/x-python",
   "name": "python",
   "nbconvert_exporter": "python",
   "pygments_lexer": "ipython3",
   "version": "3.6.7"
  }
 },
 "nbformat": 4,
 "nbformat_minor": 2
}
